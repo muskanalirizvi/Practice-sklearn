{
  "nbformat": 4,
  "nbformat_minor": 0,
  "metadata": {
    "colab": {
      "provenance": [],
      "authorship_tag": "ABX9TyOhjOo6ohCoCnnoZvmVngfQ",
      "include_colab_link": true
    },
    "kernelspec": {
      "name": "python3",
      "display_name": "Python 3"
    },
    "language_info": {
      "name": "python"
    }
  },
  "cells": [
    {
      "cell_type": "markdown",
      "metadata": {
        "id": "view-in-github",
        "colab_type": "text"
      },
      "source": [
        "<a href=\"https://colab.research.google.com/github/muskanalirizvi/Practice-sklearn/blob/main/MultipleLinearRegression.ipynb\" target=\"_parent\"><img src=\"https://colab.research.google.com/assets/colab-badge.svg\" alt=\"Open In Colab\"/></a>"
      ]
    },
    {
      "cell_type": "code",
      "execution_count": 2,
      "metadata": {
        "id": "K3BMW5k6_-jn"
      },
      "outputs": [],
      "source": [
        "import pandas as pd\n",
        "import numpy as np\n",
        "\n",
        "import plotly.express as px\n",
        "import plotly.graph_objects as go"
      ]
    },
    {
      "cell_type": "code",
      "source": [
        "# Set a random seed for reproducibility\n",
        "np.random.seed(42)\n",
        "\n",
        "# Generate 150 rows of random data\n",
        "data = {\n",
        "    \"Feature1\": np.random.rand(150) * 100,  # Random values between 0 and 100\n",
        "    \"Feature2\": np.random.rand(150) * 200,  # Random values between 0 and 200\n",
        "    \"Target\": np.random.rand(150) * 300     # Random values between 0 and 300\n",
        "}\n",
        "\n",
        "# Create the DataFrame\n",
        "df = pd.DataFrame(data)\n",
        "\n",
        "# Display the first few rows of the DataFrame\n",
        "print(df.head())\n"
      ],
      "metadata": {
        "colab": {
          "base_uri": "https://localhost:8080/"
        },
        "id": "Unq1xBmyAt1Q",
        "outputId": "78430e66-e6d0-4f17-cac7-e4b33f761946"
      },
      "execution_count": 3,
      "outputs": [
        {
          "output_type": "stream",
          "name": "stdout",
          "text": [
            "    Feature1    Feature2      Target\n",
            "0  37.454012  181.653177   15.504516\n",
            "1  95.071431   47.912378  159.406389\n",
            "2  73.199394   28.978974  162.190536\n",
            "3  59.865848   97.890552  191.228970\n",
            "4  15.601864  197.130091  217.827400\n"
          ]
        }
      ]
    },
    {
      "cell_type": "code",
      "source": [
        "fig = px.scatter_3d(df, x = 'Feature1', y = 'Feature2', z = 'Target')\n",
        "fig.show()"
      ],
      "metadata": {
        "colab": {
          "base_uri": "https://localhost:8080/",
          "height": 542
        },
        "id": "Q_lNRk8XBjdb",
        "outputId": "f3f57039-7f27-4c6a-cb0c-ed926cdcf581"
      },
      "execution_count": 5,
      "outputs": [
        {
          "output_type": "display_data",
          "data": {
            "text/html": [
              "<html>\n",
              "<head><meta charset=\"utf-8\" /></head>\n",
              "<body>\n",
              "    <div>            <script src=\"https://cdnjs.cloudflare.com/ajax/libs/mathjax/2.7.5/MathJax.js?config=TeX-AMS-MML_SVG\"></script><script type=\"text/javascript\">if (window.MathJax && window.MathJax.Hub && window.MathJax.Hub.Config) {window.MathJax.Hub.Config({SVG: {font: \"STIX-Web\"}});}</script>                <script type=\"text/javascript\">window.PlotlyConfig = {MathJaxConfig: 'local'};</script>\n",
              "        <script charset=\"utf-8\" src=\"https://cdn.plot.ly/plotly-2.24.1.min.js\"></script>                <div id=\"44a7f561-39ad-42b6-ac57-784cf6dc8e89\" class=\"plotly-graph-div\" style=\"height:525px; width:100%;\"></div>            <script type=\"text/javascript\">                                    window.PLOTLYENV=window.PLOTLYENV || {};                                    if (document.getElementById(\"44a7f561-39ad-42b6-ac57-784cf6dc8e89\")) {                    Plotly.newPlot(                        \"44a7f561-39ad-42b6-ac57-784cf6dc8e89\",                        [{\"hovertemplate\":\"Feature1=%{x}\\u003cbr\\u003eFeature2=%{y}\\u003cbr\\u003eTarget=%{z}\\u003cextra\\u003e\\u003c\\u002fextra\\u003e\",\"legendgroup\":\"\",\"marker\":{\"color\":\"#636efa\",\"symbol\":\"circle\"},\"mode\":\"markers\",\"name\":\"\",\"scene\":\"scene\",\"showlegend\":false,\"x\":[37.454011884736246,95.07143064099162,73.1993941811405,59.86584841970366,15.601864044243651,15.599452033620265,5.8083612168199465,86.61761457749351,60.11150117432088,70.80725777960456,2.0584494295802447,96.99098521619943,83.24426408004217,21.233911067827616,18.182496720710063,18.34045098534338,30.42422429595377,52.475643163223786,43.194501864211574,29.122914019804192,61.18528947223795,13.949386065204184,29.214464853521815,36.63618432936917,45.606998421703594,78.51759613930136,19.967378215835975,51.42344384136116,59.24145688620425,4.645041271999773,60.75448519014384,17.052412368729154,6.505159298527952,94.88855372533332,96.56320330745594,80.83973481164611,30.46137691733707,9.767211400638388,68.42330265121569,44.01524937396013,12.203823484477883,49.51769101112702,3.4388521115218396,90.9320402078782,25.87799816000169,66.2522284353982,31.171107608941096,52.00680211778108,54.67102793432797,18.485445552552704,96.95846277645586,77.51328233611146,93.9498941564189,89.48273504276489,59.78999788110851,92.18742350231169,8.84925020519195,19.59828624191452,4.522728891053807,32.53303307632643,38.8677289689482,27.134903177389592,82.87375091519293,35.67533266935893,28.093450968738075,54.26960831582485,14.092422497476264,80.21969807540397,7.455064367977082,98.68869366005173,77.22447692966574,19.87156815341724,0.5522117123602399,81.54614284548342,70.68573438476172,72.90071680409874,77.12703466859458,7.4044651734090365,35.84657285442726,11.586905952512971,86.31034258755935,62.329812682755794,33.08980248526492,6.355835028602364,31.09823217156622,32.518332202674706,72.96061783380641,63.75574713552131,88.72127425763266,47.22149251619493,11.959424593830171,71.3244787222995,76.07850486168974,56.127719756949624,77.0967179954561,49.379559636439076,52.27328293819941,42.75410183585496,2.541912674409519,10.789142699330444,3.142918568673425,63.64104112637804,31.435598107632668,50.85706911647028,90.7566473926093,24.929222914887493,41.038292303562976,75.55511385430486,22.879816549162246,7.697990982879299,28.9751452913768,16.122128725400444,92.96976523425731,80.8120379564417,63.34037565104234,87.14605901877177,80.36720768991145,18.657005888603585,89.25589984899777,53.93422419156507,80.74401551640625,89.60912999234932,31.800347497186387,11.005192452767677,22.793516254194166,42.71077886262563,81.80147659224932,86.07305832563435,0.6952130531190703,51.07473025775657,41.7411003148779,22.210781047073024,11.98653673336828,33.7615171403628,94.29097039125192,32.320293202075526,51.87906217433661,70.30189588951778,36.3629602379294,97.17820827209607,96.24472949421113,25.178229582536417,49.72485058923854,30.087830981676966,28.484049437746762,3.6886947354532795,60.956433397989684,50.26790232288615,5.147875124998935,27.864646423661142],\"y\":[181.65317719333075,47.91237813339448,28.97897441824462,97.8905520555126,197.13009082212014,48.41105430230008,134.4271094811757,152.32392306574351,47.527508798479936,145.6432697223719,73.55662654385064,126.4611661187159,126.70594215217893,107.1549368149517,18.05795401088166,167.0604991178476,64.15601299434717,37.30370207997085,8.155028310952783,118.17858863764836,135.51287236845647,3.3175657855712304,102.4186116598562,45.29915503958759,129.03455808188997,34.87328580099829,138.18754762049318,77.34706926010747,187.3459977473469,27.50418882919865,68.2132702100517,22.694704248117816,184.93872365571255,175.4678706761962,51.58832554303112,131.99680920683582,163.44444004024317,111.04016231989246,105.93011567120129,48.37045818009034,18.620553561179843,179.44315159066534,180.0836114326661,126.62029145465358,67.80595820974014,69.84191492253218,145.19113577404786,179.42205199051543,177.41728485302346,155.97510917152476,128.40632923085755,16.827992999009766,32.325742818922755,179.71083770541586,121.28581193191799,1.8394103233259296,20.294308573206422,132.70035382161117,1.0123167692437374,32.16161028349973,109.74675787331722,138.37903953853865,130.3922519005201,44.85386189211196,142.4358442695072,47.449817499360016,65.07993963185355,149.29828102360483,129.92657980944293,169.8446820988356,131.52257846006867,113.66172066709433,18.734953565618497,73.5431606118867,53.04047353634509,48.79792867581671,194.6021109504891,78.61954493335207,178.40931103542266,126.22772519945258,158.9622607083297,100.52741862103842,115.38077692527182,98.50353876377278,39.0485975596089,144.49042305230105,56.15447248817116,4.863193286290768,129.09445918143356,35.42213588140979,188.09171687058287,190.78571540051746,182.9728780440897,74.03174005108887,3.0913233057734857,185.66371251754506,85.63682966346286,193.3309638087339,192.72399541785057,170.601891093472,58.889778413917135,77.01954572038505,170.22733430337138,63.384401031255535,33.8985493372185,111.36025249167002,187.2309548321562,139.2059593349946,114.012234017873,19.435298754153706,123.00144533983395,198.01077002085265,28.016803047304805,103.66593047274735,175.47461438559108,148.15372355084088,139.4031481990536,140.49681679742184,71.89823024395103,58.71836885289867,161.87223109570272,162.02267893583615,173.41446371602075,182.64811051129425,102.26847977218756,100.30325893743992,159.65903579335503,129.99278615555303,140.39337545154066,159.15853388722022,178.00106836351327,67.59903137030716,75.1165905279888,18.7963879681738,115.6560281992348,7.188454759348417,93.11960362649204,108.52892694151532,57.30825042565688,118.16665211380214,6.100049987809886,7.469637749842883,164.52011213193165,72.03812828225257,25.412102530376956,104.44865201096087,153.99871061972217,43.164205499368634,124.57809516380006,17.0694929987536],\"z\":[15.504516350582309,159.4063894704444,162.19053648303196,191.22897044946197,217.82740011679846,292.75562383876036,154.8901044903586,96.88694188237379,238.5558584306111,81.24967537862227,131.69142621169084,23.536914402679788,7.605223024637253,288.7945244033775,250.79403615366175,208.7922618281094,122.68588332428097,51.98829602125373,46.93111280132582,75.0728694493786,164.76799941183614,214.3787768100187,198.0592130153194,83.98016908378285,286.4595841989582,221.36907500873056,166.30621575342022,183.51622387030568,125.88001872833698,74.31929685034724,106.79180359537848,227.35383313931072,4.3180465889267605,34.82179215207487,13.800792606525825,12.218640695691041,256.6381752033022,211.0973578140071,142.25214872619756,29.350248195300445,147.4847625350497,142.0415312341697,51.960560973004554,130.15549477139191,119.55142031921203,184.75502941566495,190.52809526029313,13.591202931613356,112.38378438794136,187.75797471427092,150.9408775740263,256.9469523564967,197.6080894856835,48.88032812442891,21.170624220128953,192.72578346189468,7.9533931624865435,175.732674382039,282.0690724274873,172.64225336276368,116.45097786195657,192.98646553270595,137.47586714745498,163.68503679478047,282.43944263295754,115.83079134023228,288.35716914717426,271.6051925868191,58.737340436788934,20.808390262549636,30.233400413227997,5.466547695464918,28.33288822677852,204.90203202490704,21.356594538068695,95.69268908812839,253.46259329083637,6.981580720747759,244.34054477668073,84.55643243201997,35.449448286496875,209.02114960924519,188.68285403396519,263.2416040581159,220.52131314116573,241.04427911545457,84.61037177139194,53.231863133916846,225.1844254922575,242.0504217801792,297.151542600202,123.78530307342794,111.60542573783495,232.92388822259906,102.24106207590535,279.2271976810694,257.52382555290353,128.6982082125055,225.2613203374492,226.3628622254047,30.93716065077978,270.76587200387,151.57571173435716,247.9372398323225,96.01488030918352,268.65696854886016,116.76050362024894,3.251295444089508,271.6145929257791,27.38600303584007,95.79409127712447,285.01859011524147,285.1821440812668,172.03136643698582,189.55116365093977,134.53365659349592,87.96323150941936,98.59936361097479,201.75553682311153,225.71235883130402,237.47371311775456,236.88544283836617,27.36183091460711,148.32609141077444,17.267628004993284,164.85866469712067,132.45915041201312,266.3112548274899,105.2745037656236,35.12010492828176,42.89750461585076,228.45318951524166,185.46541899487832,30.336802836837073,25.23204183449923,210.290739437736,21.828901909258057,246.55801778710688,211.87266814694885,24.40463419256993,25.451314225557574,295.99187355035264,112.2812387268361,111.19264412006727,243.83987017725076,284.17457321515764,295.8003191468613,226.0134555776825,112.87787565927474,25.050215009600628],\"type\":\"scatter3d\"}],                        {\"template\":{\"data\":{\"histogram2dcontour\":[{\"type\":\"histogram2dcontour\",\"colorbar\":{\"outlinewidth\":0,\"ticks\":\"\"},\"colorscale\":[[0.0,\"#0d0887\"],[0.1111111111111111,\"#46039f\"],[0.2222222222222222,\"#7201a8\"],[0.3333333333333333,\"#9c179e\"],[0.4444444444444444,\"#bd3786\"],[0.5555555555555556,\"#d8576b\"],[0.6666666666666666,\"#ed7953\"],[0.7777777777777778,\"#fb9f3a\"],[0.8888888888888888,\"#fdca26\"],[1.0,\"#f0f921\"]]}],\"choropleth\":[{\"type\":\"choropleth\",\"colorbar\":{\"outlinewidth\":0,\"ticks\":\"\"}}],\"histogram2d\":[{\"type\":\"histogram2d\",\"colorbar\":{\"outlinewidth\":0,\"ticks\":\"\"},\"colorscale\":[[0.0,\"#0d0887\"],[0.1111111111111111,\"#46039f\"],[0.2222222222222222,\"#7201a8\"],[0.3333333333333333,\"#9c179e\"],[0.4444444444444444,\"#bd3786\"],[0.5555555555555556,\"#d8576b\"],[0.6666666666666666,\"#ed7953\"],[0.7777777777777778,\"#fb9f3a\"],[0.8888888888888888,\"#fdca26\"],[1.0,\"#f0f921\"]]}],\"heatmap\":[{\"type\":\"heatmap\",\"colorbar\":{\"outlinewidth\":0,\"ticks\":\"\"},\"colorscale\":[[0.0,\"#0d0887\"],[0.1111111111111111,\"#46039f\"],[0.2222222222222222,\"#7201a8\"],[0.3333333333333333,\"#9c179e\"],[0.4444444444444444,\"#bd3786\"],[0.5555555555555556,\"#d8576b\"],[0.6666666666666666,\"#ed7953\"],[0.7777777777777778,\"#fb9f3a\"],[0.8888888888888888,\"#fdca26\"],[1.0,\"#f0f921\"]]}],\"heatmapgl\":[{\"type\":\"heatmapgl\",\"colorbar\":{\"outlinewidth\":0,\"ticks\":\"\"},\"colorscale\":[[0.0,\"#0d0887\"],[0.1111111111111111,\"#46039f\"],[0.2222222222222222,\"#7201a8\"],[0.3333333333333333,\"#9c179e\"],[0.4444444444444444,\"#bd3786\"],[0.5555555555555556,\"#d8576b\"],[0.6666666666666666,\"#ed7953\"],[0.7777777777777778,\"#fb9f3a\"],[0.8888888888888888,\"#fdca26\"],[1.0,\"#f0f921\"]]}],\"contourcarpet\":[{\"type\":\"contourcarpet\",\"colorbar\":{\"outlinewidth\":0,\"ticks\":\"\"}}],\"contour\":[{\"type\":\"contour\",\"colorbar\":{\"outlinewidth\":0,\"ticks\":\"\"},\"colorscale\":[[0.0,\"#0d0887\"],[0.1111111111111111,\"#46039f\"],[0.2222222222222222,\"#7201a8\"],[0.3333333333333333,\"#9c179e\"],[0.4444444444444444,\"#bd3786\"],[0.5555555555555556,\"#d8576b\"],[0.6666666666666666,\"#ed7953\"],[0.7777777777777778,\"#fb9f3a\"],[0.8888888888888888,\"#fdca26\"],[1.0,\"#f0f921\"]]}],\"surface\":[{\"type\":\"surface\",\"colorbar\":{\"outlinewidth\":0,\"ticks\":\"\"},\"colorscale\":[[0.0,\"#0d0887\"],[0.1111111111111111,\"#46039f\"],[0.2222222222222222,\"#7201a8\"],[0.3333333333333333,\"#9c179e\"],[0.4444444444444444,\"#bd3786\"],[0.5555555555555556,\"#d8576b\"],[0.6666666666666666,\"#ed7953\"],[0.7777777777777778,\"#fb9f3a\"],[0.8888888888888888,\"#fdca26\"],[1.0,\"#f0f921\"]]}],\"mesh3d\":[{\"type\":\"mesh3d\",\"colorbar\":{\"outlinewidth\":0,\"ticks\":\"\"}}],\"scatter\":[{\"fillpattern\":{\"fillmode\":\"overlay\",\"size\":10,\"solidity\":0.2},\"type\":\"scatter\"}],\"parcoords\":[{\"type\":\"parcoords\",\"line\":{\"colorbar\":{\"outlinewidth\":0,\"ticks\":\"\"}}}],\"scatterpolargl\":[{\"type\":\"scatterpolargl\",\"marker\":{\"colorbar\":{\"outlinewidth\":0,\"ticks\":\"\"}}}],\"bar\":[{\"error_x\":{\"color\":\"#2a3f5f\"},\"error_y\":{\"color\":\"#2a3f5f\"},\"marker\":{\"line\":{\"color\":\"#E5ECF6\",\"width\":0.5},\"pattern\":{\"fillmode\":\"overlay\",\"size\":10,\"solidity\":0.2}},\"type\":\"bar\"}],\"scattergeo\":[{\"type\":\"scattergeo\",\"marker\":{\"colorbar\":{\"outlinewidth\":0,\"ticks\":\"\"}}}],\"scatterpolar\":[{\"type\":\"scatterpolar\",\"marker\":{\"colorbar\":{\"outlinewidth\":0,\"ticks\":\"\"}}}],\"histogram\":[{\"marker\":{\"pattern\":{\"fillmode\":\"overlay\",\"size\":10,\"solidity\":0.2}},\"type\":\"histogram\"}],\"scattergl\":[{\"type\":\"scattergl\",\"marker\":{\"colorbar\":{\"outlinewidth\":0,\"ticks\":\"\"}}}],\"scatter3d\":[{\"type\":\"scatter3d\",\"line\":{\"colorbar\":{\"outlinewidth\":0,\"ticks\":\"\"}},\"marker\":{\"colorbar\":{\"outlinewidth\":0,\"ticks\":\"\"}}}],\"scattermapbox\":[{\"type\":\"scattermapbox\",\"marker\":{\"colorbar\":{\"outlinewidth\":0,\"ticks\":\"\"}}}],\"scatterternary\":[{\"type\":\"scatterternary\",\"marker\":{\"colorbar\":{\"outlinewidth\":0,\"ticks\":\"\"}}}],\"scattercarpet\":[{\"type\":\"scattercarpet\",\"marker\":{\"colorbar\":{\"outlinewidth\":0,\"ticks\":\"\"}}}],\"carpet\":[{\"aaxis\":{\"endlinecolor\":\"#2a3f5f\",\"gridcolor\":\"white\",\"linecolor\":\"white\",\"minorgridcolor\":\"white\",\"startlinecolor\":\"#2a3f5f\"},\"baxis\":{\"endlinecolor\":\"#2a3f5f\",\"gridcolor\":\"white\",\"linecolor\":\"white\",\"minorgridcolor\":\"white\",\"startlinecolor\":\"#2a3f5f\"},\"type\":\"carpet\"}],\"table\":[{\"cells\":{\"fill\":{\"color\":\"#EBF0F8\"},\"line\":{\"color\":\"white\"}},\"header\":{\"fill\":{\"color\":\"#C8D4E3\"},\"line\":{\"color\":\"white\"}},\"type\":\"table\"}],\"barpolar\":[{\"marker\":{\"line\":{\"color\":\"#E5ECF6\",\"width\":0.5},\"pattern\":{\"fillmode\":\"overlay\",\"size\":10,\"solidity\":0.2}},\"type\":\"barpolar\"}],\"pie\":[{\"automargin\":true,\"type\":\"pie\"}]},\"layout\":{\"autotypenumbers\":\"strict\",\"colorway\":[\"#636efa\",\"#EF553B\",\"#00cc96\",\"#ab63fa\",\"#FFA15A\",\"#19d3f3\",\"#FF6692\",\"#B6E880\",\"#FF97FF\",\"#FECB52\"],\"font\":{\"color\":\"#2a3f5f\"},\"hovermode\":\"closest\",\"hoverlabel\":{\"align\":\"left\"},\"paper_bgcolor\":\"white\",\"plot_bgcolor\":\"#E5ECF6\",\"polar\":{\"bgcolor\":\"#E5ECF6\",\"angularaxis\":{\"gridcolor\":\"white\",\"linecolor\":\"white\",\"ticks\":\"\"},\"radialaxis\":{\"gridcolor\":\"white\",\"linecolor\":\"white\",\"ticks\":\"\"}},\"ternary\":{\"bgcolor\":\"#E5ECF6\",\"aaxis\":{\"gridcolor\":\"white\",\"linecolor\":\"white\",\"ticks\":\"\"},\"baxis\":{\"gridcolor\":\"white\",\"linecolor\":\"white\",\"ticks\":\"\"},\"caxis\":{\"gridcolor\":\"white\",\"linecolor\":\"white\",\"ticks\":\"\"}},\"coloraxis\":{\"colorbar\":{\"outlinewidth\":0,\"ticks\":\"\"}},\"colorscale\":{\"sequential\":[[0.0,\"#0d0887\"],[0.1111111111111111,\"#46039f\"],[0.2222222222222222,\"#7201a8\"],[0.3333333333333333,\"#9c179e\"],[0.4444444444444444,\"#bd3786\"],[0.5555555555555556,\"#d8576b\"],[0.6666666666666666,\"#ed7953\"],[0.7777777777777778,\"#fb9f3a\"],[0.8888888888888888,\"#fdca26\"],[1.0,\"#f0f921\"]],\"sequentialminus\":[[0.0,\"#0d0887\"],[0.1111111111111111,\"#46039f\"],[0.2222222222222222,\"#7201a8\"],[0.3333333333333333,\"#9c179e\"],[0.4444444444444444,\"#bd3786\"],[0.5555555555555556,\"#d8576b\"],[0.6666666666666666,\"#ed7953\"],[0.7777777777777778,\"#fb9f3a\"],[0.8888888888888888,\"#fdca26\"],[1.0,\"#f0f921\"]],\"diverging\":[[0,\"#8e0152\"],[0.1,\"#c51b7d\"],[0.2,\"#de77ae\"],[0.3,\"#f1b6da\"],[0.4,\"#fde0ef\"],[0.5,\"#f7f7f7\"],[0.6,\"#e6f5d0\"],[0.7,\"#b8e186\"],[0.8,\"#7fbc41\"],[0.9,\"#4d9221\"],[1,\"#276419\"]]},\"xaxis\":{\"gridcolor\":\"white\",\"linecolor\":\"white\",\"ticks\":\"\",\"title\":{\"standoff\":15},\"zerolinecolor\":\"white\",\"automargin\":true,\"zerolinewidth\":2},\"yaxis\":{\"gridcolor\":\"white\",\"linecolor\":\"white\",\"ticks\":\"\",\"title\":{\"standoff\":15},\"zerolinecolor\":\"white\",\"automargin\":true,\"zerolinewidth\":2},\"scene\":{\"xaxis\":{\"backgroundcolor\":\"#E5ECF6\",\"gridcolor\":\"white\",\"linecolor\":\"white\",\"showbackground\":true,\"ticks\":\"\",\"zerolinecolor\":\"white\",\"gridwidth\":2},\"yaxis\":{\"backgroundcolor\":\"#E5ECF6\",\"gridcolor\":\"white\",\"linecolor\":\"white\",\"showbackground\":true,\"ticks\":\"\",\"zerolinecolor\":\"white\",\"gridwidth\":2},\"zaxis\":{\"backgroundcolor\":\"#E5ECF6\",\"gridcolor\":\"white\",\"linecolor\":\"white\",\"showbackground\":true,\"ticks\":\"\",\"zerolinecolor\":\"white\",\"gridwidth\":2}},\"shapedefaults\":{\"line\":{\"color\":\"#2a3f5f\"}},\"annotationdefaults\":{\"arrowcolor\":\"#2a3f5f\",\"arrowhead\":0,\"arrowwidth\":1},\"geo\":{\"bgcolor\":\"white\",\"landcolor\":\"#E5ECF6\",\"subunitcolor\":\"white\",\"showland\":true,\"showlakes\":true,\"lakecolor\":\"white\"},\"title\":{\"x\":0.05},\"mapbox\":{\"style\":\"light\"}}},\"scene\":{\"domain\":{\"x\":[0.0,1.0],\"y\":[0.0,1.0]},\"xaxis\":{\"title\":{\"text\":\"Feature1\"}},\"yaxis\":{\"title\":{\"text\":\"Feature2\"}},\"zaxis\":{\"title\":{\"text\":\"Target\"}}},\"legend\":{\"tracegroupgap\":0},\"margin\":{\"t\":60}},                        {\"responsive\": true}                    ).then(function(){\n",
              "                            \n",
              "var gd = document.getElementById('44a7f561-39ad-42b6-ac57-784cf6dc8e89');\n",
              "var x = new MutationObserver(function (mutations, observer) {{\n",
              "        var display = window.getComputedStyle(gd).display;\n",
              "        if (!display || display === 'none') {{\n",
              "            console.log([gd, 'removed!']);\n",
              "            Plotly.purge(gd);\n",
              "            observer.disconnect();\n",
              "        }}\n",
              "}});\n",
              "\n",
              "// Listen for the removal of the full notebook cells\n",
              "var notebookContainer = gd.closest('#notebook-container');\n",
              "if (notebookContainer) {{\n",
              "    x.observe(notebookContainer, {childList: true});\n",
              "}}\n",
              "\n",
              "// Listen for the clearing of the current output cell\n",
              "var outputEl = gd.closest('.output');\n",
              "if (outputEl) {{\n",
              "    x.observe(outputEl, {childList: true});\n",
              "}}\n",
              "\n",
              "                        })                };                            </script>        </div>\n",
              "</body>\n",
              "</html>"
            ]
          },
          "metadata": {}
        }
      ]
    },
    {
      "cell_type": "code",
      "source": [
        "from sklearn.model_selection import train_test_split\n",
        "\n",
        "x_train, x_test, y_train, y_test = train_test_split(df.drop(['Target'], axis = 1), df['Target'], test_size = 0.3, random_state = 2)"
      ],
      "metadata": {
        "id": "rF6hMyCoDLui"
      },
      "execution_count": 11,
      "outputs": []
    },
    {
      "cell_type": "code",
      "source": [
        "from sklearn.linear_model import LinearRegression\n",
        "from sklearn.metrics import mean_absolute_error,mean_squared_error,r2_score\n",
        "\n",
        "lr = LinearRegression()\n",
        "lr.fit(x_train, y_train)"
      ],
      "metadata": {
        "colab": {
          "base_uri": "https://localhost:8080/",
          "height": 74
        },
        "id": "UpL1uf7-Cu1B",
        "outputId": "ddc1cfae-6d31-4d48-a86f-048d30eb4ee7"
      },
      "execution_count": 17,
      "outputs": [
        {
          "output_type": "execute_result",
          "data": {
            "text/plain": [
              "LinearRegression()"
            ],
            "text/html": [
              "<style>#sk-container-id-2 {color: black;}#sk-container-id-2 pre{padding: 0;}#sk-container-id-2 div.sk-toggleable {background-color: white;}#sk-container-id-2 label.sk-toggleable__label {cursor: pointer;display: block;width: 100%;margin-bottom: 0;padding: 0.3em;box-sizing: border-box;text-align: center;}#sk-container-id-2 label.sk-toggleable__label-arrow:before {content: \"▸\";float: left;margin-right: 0.25em;color: #696969;}#sk-container-id-2 label.sk-toggleable__label-arrow:hover:before {color: black;}#sk-container-id-2 div.sk-estimator:hover label.sk-toggleable__label-arrow:before {color: black;}#sk-container-id-2 div.sk-toggleable__content {max-height: 0;max-width: 0;overflow: hidden;text-align: left;background-color: #f0f8ff;}#sk-container-id-2 div.sk-toggleable__content pre {margin: 0.2em;color: black;border-radius: 0.25em;background-color: #f0f8ff;}#sk-container-id-2 input.sk-toggleable__control:checked~div.sk-toggleable__content {max-height: 200px;max-width: 100%;overflow: auto;}#sk-container-id-2 input.sk-toggleable__control:checked~label.sk-toggleable__label-arrow:before {content: \"▾\";}#sk-container-id-2 div.sk-estimator input.sk-toggleable__control:checked~label.sk-toggleable__label {background-color: #d4ebff;}#sk-container-id-2 div.sk-label input.sk-toggleable__control:checked~label.sk-toggleable__label {background-color: #d4ebff;}#sk-container-id-2 input.sk-hidden--visually {border: 0;clip: rect(1px 1px 1px 1px);clip: rect(1px, 1px, 1px, 1px);height: 1px;margin: -1px;overflow: hidden;padding: 0;position: absolute;width: 1px;}#sk-container-id-2 div.sk-estimator {font-family: monospace;background-color: #f0f8ff;border: 1px dotted black;border-radius: 0.25em;box-sizing: border-box;margin-bottom: 0.5em;}#sk-container-id-2 div.sk-estimator:hover {background-color: #d4ebff;}#sk-container-id-2 div.sk-parallel-item::after {content: \"\";width: 100%;border-bottom: 1px solid gray;flex-grow: 1;}#sk-container-id-2 div.sk-label:hover label.sk-toggleable__label {background-color: #d4ebff;}#sk-container-id-2 div.sk-serial::before {content: \"\";position: absolute;border-left: 1px solid gray;box-sizing: border-box;top: 0;bottom: 0;left: 50%;z-index: 0;}#sk-container-id-2 div.sk-serial {display: flex;flex-direction: column;align-items: center;background-color: white;padding-right: 0.2em;padding-left: 0.2em;position: relative;}#sk-container-id-2 div.sk-item {position: relative;z-index: 1;}#sk-container-id-2 div.sk-parallel {display: flex;align-items: stretch;justify-content: center;background-color: white;position: relative;}#sk-container-id-2 div.sk-item::before, #sk-container-id-2 div.sk-parallel-item::before {content: \"\";position: absolute;border-left: 1px solid gray;box-sizing: border-box;top: 0;bottom: 0;left: 50%;z-index: -1;}#sk-container-id-2 div.sk-parallel-item {display: flex;flex-direction: column;z-index: 1;position: relative;background-color: white;}#sk-container-id-2 div.sk-parallel-item:first-child::after {align-self: flex-end;width: 50%;}#sk-container-id-2 div.sk-parallel-item:last-child::after {align-self: flex-start;width: 50%;}#sk-container-id-2 div.sk-parallel-item:only-child::after {width: 0;}#sk-container-id-2 div.sk-dashed-wrapped {border: 1px dashed gray;margin: 0 0.4em 0.5em 0.4em;box-sizing: border-box;padding-bottom: 0.4em;background-color: white;}#sk-container-id-2 div.sk-label label {font-family: monospace;font-weight: bold;display: inline-block;line-height: 1.2em;}#sk-container-id-2 div.sk-label-container {text-align: center;}#sk-container-id-2 div.sk-container {/* jupyter's `normalize.less` sets `[hidden] { display: none; }` but bootstrap.min.css set `[hidden] { display: none !important; }` so we also need the `!important` here to be able to override the default hidden behavior on the sphinx rendered scikit-learn.org. See: https://github.com/scikit-learn/scikit-learn/issues/21755 */display: inline-block !important;position: relative;}#sk-container-id-2 div.sk-text-repr-fallback {display: none;}</style><div id=\"sk-container-id-2\" class=\"sk-top-container\"><div class=\"sk-text-repr-fallback\"><pre>LinearRegression()</pre><b>In a Jupyter environment, please rerun this cell to show the HTML representation or trust the notebook. <br />On GitHub, the HTML representation is unable to render, please try loading this page with nbviewer.org.</b></div><div class=\"sk-container\" hidden><div class=\"sk-item\"><div class=\"sk-estimator sk-toggleable\"><input class=\"sk-toggleable__control sk-hidden--visually\" id=\"sk-estimator-id-2\" type=\"checkbox\" checked><label for=\"sk-estimator-id-2\" class=\"sk-toggleable__label sk-toggleable__label-arrow\">LinearRegression</label><div class=\"sk-toggleable__content\"><pre>LinearRegression()</pre></div></div></div></div></div>"
            ]
          },
          "metadata": {},
          "execution_count": 17
        }
      ]
    },
    {
      "cell_type": "code",
      "source": [
        "y_pred = lr.predict(x_test)"
      ],
      "metadata": {
        "id": "YzvgW0YLD2Kz"
      },
      "execution_count": 14,
      "outputs": []
    },
    {
      "cell_type": "code",
      "source": [
        "print(\"MAE = \",mean_absolute_error(y_test,y_pred))\n",
        "print(\"MSE = \",mean_squared_error(y_test,y_pred))\n",
        "print(\"R2 score = \",r2_score(y_test,y_pred))"
      ],
      "metadata": {
        "colab": {
          "base_uri": "https://localhost:8080/"
        },
        "id": "iyjehDz5Eeee",
        "outputId": "63abb6e6-3286-4b2d-be30-1abeb9d93e1f"
      },
      "execution_count": 18,
      "outputs": [
        {
          "output_type": "stream",
          "name": "stdout",
          "text": [
            "MAE =  76.85486922648168\n",
            "MSE =  7825.077716144675\n",
            "R2 score =  0.01670676782992475\n"
          ]
        }
      ]
    },
    {
      "cell_type": "code",
      "source": [
        "x = np.linspace(df[\"Feature1\"].min(), df[\"Feature1\"].max(), 10)\n",
        "y = np.linspace(df[\"Feature2\"].min(), df[\"Feature2\"].max(), 10)\n",
        "xGrid, yGrid = np.meshgrid(x, y)\n",
        "\n",
        "# Prepare data for prediction\n",
        "final = np.vstack((xGrid.ravel(), yGrid.ravel())).T\n",
        "z_final = lr.predict(final).reshape(10, 10)\n",
        "z = z_final\n",
        "\n",
        "# Plotting\n",
        "fig = px.scatter_3d(df, x='Feature1', y='Feature2', z='Target')\n",
        "\n",
        "surface = go.Surface(x=x, y=y, z=z, colorscale='Viridis', opacity=0.6)\n",
        "fig.add_trace(surface)\n",
        "\n",
        "fig.show()"
      ],
      "metadata": {
        "colab": {
          "base_uri": "https://localhost:8080/",
          "height": 611
        },
        "id": "zs-T5S7HF297",
        "outputId": "175f61ef-0993-4a23-b5ea-2662ba2704ca"
      },
      "execution_count": 21,
      "outputs": [
        {
          "output_type": "stream",
          "name": "stderr",
          "text": [
            "/usr/local/lib/python3.10/dist-packages/sklearn/base.py:465: UserWarning:\n",
            "\n",
            "X does not have valid feature names, but LinearRegression was fitted with feature names\n",
            "\n"
          ]
        },
        {
          "output_type": "display_data",
          "data": {
            "text/html": [
              "<html>\n",
              "<head><meta charset=\"utf-8\" /></head>\n",
              "<body>\n",
              "    <div>            <script src=\"https://cdnjs.cloudflare.com/ajax/libs/mathjax/2.7.5/MathJax.js?config=TeX-AMS-MML_SVG\"></script><script type=\"text/javascript\">if (window.MathJax && window.MathJax.Hub && window.MathJax.Hub.Config) {window.MathJax.Hub.Config({SVG: {font: \"STIX-Web\"}});}</script>                <script type=\"text/javascript\">window.PlotlyConfig = {MathJaxConfig: 'local'};</script>\n",
              "        <script charset=\"utf-8\" src=\"https://cdn.plot.ly/plotly-2.24.1.min.js\"></script>                <div id=\"3c1cd94a-098f-4edd-9427-1c32e16429c7\" class=\"plotly-graph-div\" style=\"height:525px; width:100%;\"></div>            <script type=\"text/javascript\">                                    window.PLOTLYENV=window.PLOTLYENV || {};                                    if (document.getElementById(\"3c1cd94a-098f-4edd-9427-1c32e16429c7\")) {                    Plotly.newPlot(                        \"3c1cd94a-098f-4edd-9427-1c32e16429c7\",                        [{\"hovertemplate\":\"Feature1=%{x}\\u003cbr\\u003eFeature2=%{y}\\u003cbr\\u003eTarget=%{z}\\u003cextra\\u003e\\u003c\\u002fextra\\u003e\",\"legendgroup\":\"\",\"marker\":{\"color\":\"#636efa\",\"symbol\":\"circle\"},\"mode\":\"markers\",\"name\":\"\",\"scene\":\"scene\",\"showlegend\":false,\"x\":[37.454011884736246,95.07143064099162,73.1993941811405,59.86584841970366,15.601864044243651,15.599452033620265,5.8083612168199465,86.61761457749351,60.11150117432088,70.80725777960456,2.0584494295802447,96.99098521619943,83.24426408004217,21.233911067827616,18.182496720710063,18.34045098534338,30.42422429595377,52.475643163223786,43.194501864211574,29.122914019804192,61.18528947223795,13.949386065204184,29.214464853521815,36.63618432936917,45.606998421703594,78.51759613930136,19.967378215835975,51.42344384136116,59.24145688620425,4.645041271999773,60.75448519014384,17.052412368729154,6.505159298527952,94.88855372533332,96.56320330745594,80.83973481164611,30.46137691733707,9.767211400638388,68.42330265121569,44.01524937396013,12.203823484477883,49.51769101112702,3.4388521115218396,90.9320402078782,25.87799816000169,66.2522284353982,31.171107608941096,52.00680211778108,54.67102793432797,18.485445552552704,96.95846277645586,77.51328233611146,93.9498941564189,89.48273504276489,59.78999788110851,92.18742350231169,8.84925020519195,19.59828624191452,4.522728891053807,32.53303307632643,38.8677289689482,27.134903177389592,82.87375091519293,35.67533266935893,28.093450968738075,54.26960831582485,14.092422497476264,80.21969807540397,7.455064367977082,98.68869366005173,77.22447692966574,19.87156815341724,0.5522117123602399,81.54614284548342,70.68573438476172,72.90071680409874,77.12703466859458,7.4044651734090365,35.84657285442726,11.586905952512971,86.31034258755935,62.329812682755794,33.08980248526492,6.355835028602364,31.09823217156622,32.518332202674706,72.96061783380641,63.75574713552131,88.72127425763266,47.22149251619493,11.959424593830171,71.3244787222995,76.07850486168974,56.127719756949624,77.0967179954561,49.379559636439076,52.27328293819941,42.75410183585496,2.541912674409519,10.789142699330444,3.142918568673425,63.64104112637804,31.435598107632668,50.85706911647028,90.7566473926093,24.929222914887493,41.038292303562976,75.55511385430486,22.879816549162246,7.697990982879299,28.9751452913768,16.122128725400444,92.96976523425731,80.8120379564417,63.34037565104234,87.14605901877177,80.36720768991145,18.657005888603585,89.25589984899777,53.93422419156507,80.74401551640625,89.60912999234932,31.800347497186387,11.005192452767677,22.793516254194166,42.71077886262563,81.80147659224932,86.07305832563435,0.6952130531190703,51.07473025775657,41.7411003148779,22.210781047073024,11.98653673336828,33.7615171403628,94.29097039125192,32.320293202075526,51.87906217433661,70.30189588951778,36.3629602379294,97.17820827209607,96.24472949421113,25.178229582536417,49.72485058923854,30.087830981676966,28.484049437746762,3.6886947354532795,60.956433397989684,50.26790232288615,5.147875124998935,27.864646423661142],\"y\":[181.65317719333075,47.91237813339448,28.97897441824462,97.8905520555126,197.13009082212014,48.41105430230008,134.4271094811757,152.32392306574351,47.527508798479936,145.6432697223719,73.55662654385064,126.4611661187159,126.70594215217893,107.1549368149517,18.05795401088166,167.0604991178476,64.15601299434717,37.30370207997085,8.155028310952783,118.17858863764836,135.51287236845647,3.3175657855712304,102.4186116598562,45.29915503958759,129.03455808188997,34.87328580099829,138.18754762049318,77.34706926010747,187.3459977473469,27.50418882919865,68.2132702100517,22.694704248117816,184.93872365571255,175.4678706761962,51.58832554303112,131.99680920683582,163.44444004024317,111.04016231989246,105.93011567120129,48.37045818009034,18.620553561179843,179.44315159066534,180.0836114326661,126.62029145465358,67.80595820974014,69.84191492253218,145.19113577404786,179.42205199051543,177.41728485302346,155.97510917152476,128.40632923085755,16.827992999009766,32.325742818922755,179.71083770541586,121.28581193191799,1.8394103233259296,20.294308573206422,132.70035382161117,1.0123167692437374,32.16161028349973,109.74675787331722,138.37903953853865,130.3922519005201,44.85386189211196,142.4358442695072,47.449817499360016,65.07993963185355,149.29828102360483,129.92657980944293,169.8446820988356,131.52257846006867,113.66172066709433,18.734953565618497,73.5431606118867,53.04047353634509,48.79792867581671,194.6021109504891,78.61954493335207,178.40931103542266,126.22772519945258,158.9622607083297,100.52741862103842,115.38077692527182,98.50353876377278,39.0485975596089,144.49042305230105,56.15447248817116,4.863193286290768,129.09445918143356,35.42213588140979,188.09171687058287,190.78571540051746,182.9728780440897,74.03174005108887,3.0913233057734857,185.66371251754506,85.63682966346286,193.3309638087339,192.72399541785057,170.601891093472,58.889778413917135,77.01954572038505,170.22733430337138,63.384401031255535,33.8985493372185,111.36025249167002,187.2309548321562,139.2059593349946,114.012234017873,19.435298754153706,123.00144533983395,198.01077002085265,28.016803047304805,103.66593047274735,175.47461438559108,148.15372355084088,139.4031481990536,140.49681679742184,71.89823024395103,58.71836885289867,161.87223109570272,162.02267893583615,173.41446371602075,182.64811051129425,102.26847977218756,100.30325893743992,159.65903579335503,129.99278615555303,140.39337545154066,159.15853388722022,178.00106836351327,67.59903137030716,75.1165905279888,18.7963879681738,115.6560281992348,7.188454759348417,93.11960362649204,108.52892694151532,57.30825042565688,118.16665211380214,6.100049987809886,7.469637749842883,164.52011213193165,72.03812828225257,25.412102530376956,104.44865201096087,153.99871061972217,43.164205499368634,124.57809516380006,17.0694929987536],\"z\":[15.504516350582309,159.4063894704444,162.19053648303196,191.22897044946197,217.82740011679846,292.75562383876036,154.8901044903586,96.88694188237379,238.5558584306111,81.24967537862227,131.69142621169084,23.536914402679788,7.605223024637253,288.7945244033775,250.79403615366175,208.7922618281094,122.68588332428097,51.98829602125373,46.93111280132582,75.0728694493786,164.76799941183614,214.3787768100187,198.0592130153194,83.98016908378285,286.4595841989582,221.36907500873056,166.30621575342022,183.51622387030568,125.88001872833698,74.31929685034724,106.79180359537848,227.35383313931072,4.3180465889267605,34.82179215207487,13.800792606525825,12.218640695691041,256.6381752033022,211.0973578140071,142.25214872619756,29.350248195300445,147.4847625350497,142.0415312341697,51.960560973004554,130.15549477139191,119.55142031921203,184.75502941566495,190.52809526029313,13.591202931613356,112.38378438794136,187.75797471427092,150.9408775740263,256.9469523564967,197.6080894856835,48.88032812442891,21.170624220128953,192.72578346189468,7.9533931624865435,175.732674382039,282.0690724274873,172.64225336276368,116.45097786195657,192.98646553270595,137.47586714745498,163.68503679478047,282.43944263295754,115.83079134023228,288.35716914717426,271.6051925868191,58.737340436788934,20.808390262549636,30.233400413227997,5.466547695464918,28.33288822677852,204.90203202490704,21.356594538068695,95.69268908812839,253.46259329083637,6.981580720747759,244.34054477668073,84.55643243201997,35.449448286496875,209.02114960924519,188.68285403396519,263.2416040581159,220.52131314116573,241.04427911545457,84.61037177139194,53.231863133916846,225.1844254922575,242.0504217801792,297.151542600202,123.78530307342794,111.60542573783495,232.92388822259906,102.24106207590535,279.2271976810694,257.52382555290353,128.6982082125055,225.2613203374492,226.3628622254047,30.93716065077978,270.76587200387,151.57571173435716,247.9372398323225,96.01488030918352,268.65696854886016,116.76050362024894,3.251295444089508,271.6145929257791,27.38600303584007,95.79409127712447,285.01859011524147,285.1821440812668,172.03136643698582,189.55116365093977,134.53365659349592,87.96323150941936,98.59936361097479,201.75553682311153,225.71235883130402,237.47371311775456,236.88544283836617,27.36183091460711,148.32609141077444,17.267628004993284,164.85866469712067,132.45915041201312,266.3112548274899,105.2745037656236,35.12010492828176,42.89750461585076,228.45318951524166,185.46541899487832,30.336802836837073,25.23204183449923,210.290739437736,21.828901909258057,246.55801778710688,211.87266814694885,24.40463419256993,25.451314225557574,295.99187355035264,112.2812387268361,111.19264412006727,243.83987017725076,284.17457321515764,295.8003191468613,226.0134555776825,112.87787565927474,25.050215009600628],\"type\":\"scatter3d\"},{\"colorscale\":[[0.0,\"#440154\"],[0.1111111111111111,\"#482878\"],[0.2222222222222222,\"#3e4989\"],[0.3333333333333333,\"#31688e\"],[0.4444444444444444,\"#26828e\"],[0.5555555555555556,\"#1f9e89\"],[0.6666666666666666,\"#35b779\"],[0.7777777777777778,\"#6ece58\"],[0.8888888888888888,\"#b5de2b\"],[1.0,\"#fde725\"]],\"opacity\":0.6,\"x\":[0.5522117123602399,11.45626526210374,22.36031881184724,33.26437236159074,44.16842591133424,55.07247946107774,65.97653301082124,76.88058656056475,87.78464011030823,98.68869366005173],\"y\":[1.0123167692437374,22.901033797200284,44.78975082515683,66.67846785311337,88.56718488106992,110.45590190902647,132.344618936983,154.23333596493956,176.1220529928961,198.01077002085265],\"z\":[[156.414273464327,153.08174456722261,149.74921567011822,146.41668677301385,143.08415787590945,139.75162897880506,136.4191000817007,133.0865711845963,129.75404228749193,126.42151339038753],[157.59041777668327,154.25788887957887,150.9253599824745,147.5928310853701,144.2603021882657,140.92777329116134,137.59524439405695,134.26271549695255,130.93018659984818,127.59765770274379],[158.76656208903952,155.43403319193516,152.10150429483076,148.76897539772636,145.436446500622,142.1039176035176,138.7713887064132,135.43885980930884,132.10633091220444,128.77380201510005],[159.94270640139578,156.6101775042914,153.27764860718702,149.94511971008262,146.61259081297825,143.28006191587386,139.9475330187695,136.6150041216651,133.2824752245607,129.94994632745633],[161.11885071375207,157.78632181664767,154.45379291954328,151.1212640224389,147.7887351253345,144.45620622823014,141.12367733112575,137.79114843402135,134.45861953691698,131.1260906398126],[162.29499502610832,158.96246612900393,155.62993723189956,152.29740833479516,148.96487943769077,145.6323505405864,142.299821643482,138.9672927463776,135.63476384927324,132.30223495216885],[163.47113933846458,160.1386104413602,156.80608154425582,153.47355264715142,150.14102375004705,146.80849485294266,143.47596595583826,140.14343705873387,136.8109081616295,133.47837926452513],[164.64728365082084,161.31475475371647,157.98222585661208,154.6496969595077,151.3171680624033,147.98463916529892,144.65211026819452,141.31958137109015,137.98705247398576,134.6545235768814],[165.82342796317712,162.49089906607273,159.15837016896833,155.82584127186396,152.49331237475957,149.16078347765517,145.8282545805508,142.4957256834464,139.16319678634204,135.83066788923765],[166.99957227553338,163.66704337842899,160.33451448132462,157.00198558422022,153.66945668711583,150.33692779001146,147.00439889290706,143.67186999580267,140.3393410986983,137.0068122015939]],\"type\":\"surface\"}],                        {\"template\":{\"data\":{\"histogram2dcontour\":[{\"type\":\"histogram2dcontour\",\"colorbar\":{\"outlinewidth\":0,\"ticks\":\"\"},\"colorscale\":[[0.0,\"#0d0887\"],[0.1111111111111111,\"#46039f\"],[0.2222222222222222,\"#7201a8\"],[0.3333333333333333,\"#9c179e\"],[0.4444444444444444,\"#bd3786\"],[0.5555555555555556,\"#d8576b\"],[0.6666666666666666,\"#ed7953\"],[0.7777777777777778,\"#fb9f3a\"],[0.8888888888888888,\"#fdca26\"],[1.0,\"#f0f921\"]]}],\"choropleth\":[{\"type\":\"choropleth\",\"colorbar\":{\"outlinewidth\":0,\"ticks\":\"\"}}],\"histogram2d\":[{\"type\":\"histogram2d\",\"colorbar\":{\"outlinewidth\":0,\"ticks\":\"\"},\"colorscale\":[[0.0,\"#0d0887\"],[0.1111111111111111,\"#46039f\"],[0.2222222222222222,\"#7201a8\"],[0.3333333333333333,\"#9c179e\"],[0.4444444444444444,\"#bd3786\"],[0.5555555555555556,\"#d8576b\"],[0.6666666666666666,\"#ed7953\"],[0.7777777777777778,\"#fb9f3a\"],[0.8888888888888888,\"#fdca26\"],[1.0,\"#f0f921\"]]}],\"heatmap\":[{\"type\":\"heatmap\",\"colorbar\":{\"outlinewidth\":0,\"ticks\":\"\"},\"colorscale\":[[0.0,\"#0d0887\"],[0.1111111111111111,\"#46039f\"],[0.2222222222222222,\"#7201a8\"],[0.3333333333333333,\"#9c179e\"],[0.4444444444444444,\"#bd3786\"],[0.5555555555555556,\"#d8576b\"],[0.6666666666666666,\"#ed7953\"],[0.7777777777777778,\"#fb9f3a\"],[0.8888888888888888,\"#fdca26\"],[1.0,\"#f0f921\"]]}],\"heatmapgl\":[{\"type\":\"heatmapgl\",\"colorbar\":{\"outlinewidth\":0,\"ticks\":\"\"},\"colorscale\":[[0.0,\"#0d0887\"],[0.1111111111111111,\"#46039f\"],[0.2222222222222222,\"#7201a8\"],[0.3333333333333333,\"#9c179e\"],[0.4444444444444444,\"#bd3786\"],[0.5555555555555556,\"#d8576b\"],[0.6666666666666666,\"#ed7953\"],[0.7777777777777778,\"#fb9f3a\"],[0.8888888888888888,\"#fdca26\"],[1.0,\"#f0f921\"]]}],\"contourcarpet\":[{\"type\":\"contourcarpet\",\"colorbar\":{\"outlinewidth\":0,\"ticks\":\"\"}}],\"contour\":[{\"type\":\"contour\",\"colorbar\":{\"outlinewidth\":0,\"ticks\":\"\"},\"colorscale\":[[0.0,\"#0d0887\"],[0.1111111111111111,\"#46039f\"],[0.2222222222222222,\"#7201a8\"],[0.3333333333333333,\"#9c179e\"],[0.4444444444444444,\"#bd3786\"],[0.5555555555555556,\"#d8576b\"],[0.6666666666666666,\"#ed7953\"],[0.7777777777777778,\"#fb9f3a\"],[0.8888888888888888,\"#fdca26\"],[1.0,\"#f0f921\"]]}],\"surface\":[{\"type\":\"surface\",\"colorbar\":{\"outlinewidth\":0,\"ticks\":\"\"},\"colorscale\":[[0.0,\"#0d0887\"],[0.1111111111111111,\"#46039f\"],[0.2222222222222222,\"#7201a8\"],[0.3333333333333333,\"#9c179e\"],[0.4444444444444444,\"#bd3786\"],[0.5555555555555556,\"#d8576b\"],[0.6666666666666666,\"#ed7953\"],[0.7777777777777778,\"#fb9f3a\"],[0.8888888888888888,\"#fdca26\"],[1.0,\"#f0f921\"]]}],\"mesh3d\":[{\"type\":\"mesh3d\",\"colorbar\":{\"outlinewidth\":0,\"ticks\":\"\"}}],\"scatter\":[{\"fillpattern\":{\"fillmode\":\"overlay\",\"size\":10,\"solidity\":0.2},\"type\":\"scatter\"}],\"parcoords\":[{\"type\":\"parcoords\",\"line\":{\"colorbar\":{\"outlinewidth\":0,\"ticks\":\"\"}}}],\"scatterpolargl\":[{\"type\":\"scatterpolargl\",\"marker\":{\"colorbar\":{\"outlinewidth\":0,\"ticks\":\"\"}}}],\"bar\":[{\"error_x\":{\"color\":\"#2a3f5f\"},\"error_y\":{\"color\":\"#2a3f5f\"},\"marker\":{\"line\":{\"color\":\"#E5ECF6\",\"width\":0.5},\"pattern\":{\"fillmode\":\"overlay\",\"size\":10,\"solidity\":0.2}},\"type\":\"bar\"}],\"scattergeo\":[{\"type\":\"scattergeo\",\"marker\":{\"colorbar\":{\"outlinewidth\":0,\"ticks\":\"\"}}}],\"scatterpolar\":[{\"type\":\"scatterpolar\",\"marker\":{\"colorbar\":{\"outlinewidth\":0,\"ticks\":\"\"}}}],\"histogram\":[{\"marker\":{\"pattern\":{\"fillmode\":\"overlay\",\"size\":10,\"solidity\":0.2}},\"type\":\"histogram\"}],\"scattergl\":[{\"type\":\"scattergl\",\"marker\":{\"colorbar\":{\"outlinewidth\":0,\"ticks\":\"\"}}}],\"scatter3d\":[{\"type\":\"scatter3d\",\"line\":{\"colorbar\":{\"outlinewidth\":0,\"ticks\":\"\"}},\"marker\":{\"colorbar\":{\"outlinewidth\":0,\"ticks\":\"\"}}}],\"scattermapbox\":[{\"type\":\"scattermapbox\",\"marker\":{\"colorbar\":{\"outlinewidth\":0,\"ticks\":\"\"}}}],\"scatterternary\":[{\"type\":\"scatterternary\",\"marker\":{\"colorbar\":{\"outlinewidth\":0,\"ticks\":\"\"}}}],\"scattercarpet\":[{\"type\":\"scattercarpet\",\"marker\":{\"colorbar\":{\"outlinewidth\":0,\"ticks\":\"\"}}}],\"carpet\":[{\"aaxis\":{\"endlinecolor\":\"#2a3f5f\",\"gridcolor\":\"white\",\"linecolor\":\"white\",\"minorgridcolor\":\"white\",\"startlinecolor\":\"#2a3f5f\"},\"baxis\":{\"endlinecolor\":\"#2a3f5f\",\"gridcolor\":\"white\",\"linecolor\":\"white\",\"minorgridcolor\":\"white\",\"startlinecolor\":\"#2a3f5f\"},\"type\":\"carpet\"}],\"table\":[{\"cells\":{\"fill\":{\"color\":\"#EBF0F8\"},\"line\":{\"color\":\"white\"}},\"header\":{\"fill\":{\"color\":\"#C8D4E3\"},\"line\":{\"color\":\"white\"}},\"type\":\"table\"}],\"barpolar\":[{\"marker\":{\"line\":{\"color\":\"#E5ECF6\",\"width\":0.5},\"pattern\":{\"fillmode\":\"overlay\",\"size\":10,\"solidity\":0.2}},\"type\":\"barpolar\"}],\"pie\":[{\"automargin\":true,\"type\":\"pie\"}]},\"layout\":{\"autotypenumbers\":\"strict\",\"colorway\":[\"#636efa\",\"#EF553B\",\"#00cc96\",\"#ab63fa\",\"#FFA15A\",\"#19d3f3\",\"#FF6692\",\"#B6E880\",\"#FF97FF\",\"#FECB52\"],\"font\":{\"color\":\"#2a3f5f\"},\"hovermode\":\"closest\",\"hoverlabel\":{\"align\":\"left\"},\"paper_bgcolor\":\"white\",\"plot_bgcolor\":\"#E5ECF6\",\"polar\":{\"bgcolor\":\"#E5ECF6\",\"angularaxis\":{\"gridcolor\":\"white\",\"linecolor\":\"white\",\"ticks\":\"\"},\"radialaxis\":{\"gridcolor\":\"white\",\"linecolor\":\"white\",\"ticks\":\"\"}},\"ternary\":{\"bgcolor\":\"#E5ECF6\",\"aaxis\":{\"gridcolor\":\"white\",\"linecolor\":\"white\",\"ticks\":\"\"},\"baxis\":{\"gridcolor\":\"white\",\"linecolor\":\"white\",\"ticks\":\"\"},\"caxis\":{\"gridcolor\":\"white\",\"linecolor\":\"white\",\"ticks\":\"\"}},\"coloraxis\":{\"colorbar\":{\"outlinewidth\":0,\"ticks\":\"\"}},\"colorscale\":{\"sequential\":[[0.0,\"#0d0887\"],[0.1111111111111111,\"#46039f\"],[0.2222222222222222,\"#7201a8\"],[0.3333333333333333,\"#9c179e\"],[0.4444444444444444,\"#bd3786\"],[0.5555555555555556,\"#d8576b\"],[0.6666666666666666,\"#ed7953\"],[0.7777777777777778,\"#fb9f3a\"],[0.8888888888888888,\"#fdca26\"],[1.0,\"#f0f921\"]],\"sequentialminus\":[[0.0,\"#0d0887\"],[0.1111111111111111,\"#46039f\"],[0.2222222222222222,\"#7201a8\"],[0.3333333333333333,\"#9c179e\"],[0.4444444444444444,\"#bd3786\"],[0.5555555555555556,\"#d8576b\"],[0.6666666666666666,\"#ed7953\"],[0.7777777777777778,\"#fb9f3a\"],[0.8888888888888888,\"#fdca26\"],[1.0,\"#f0f921\"]],\"diverging\":[[0,\"#8e0152\"],[0.1,\"#c51b7d\"],[0.2,\"#de77ae\"],[0.3,\"#f1b6da\"],[0.4,\"#fde0ef\"],[0.5,\"#f7f7f7\"],[0.6,\"#e6f5d0\"],[0.7,\"#b8e186\"],[0.8,\"#7fbc41\"],[0.9,\"#4d9221\"],[1,\"#276419\"]]},\"xaxis\":{\"gridcolor\":\"white\",\"linecolor\":\"white\",\"ticks\":\"\",\"title\":{\"standoff\":15},\"zerolinecolor\":\"white\",\"automargin\":true,\"zerolinewidth\":2},\"yaxis\":{\"gridcolor\":\"white\",\"linecolor\":\"white\",\"ticks\":\"\",\"title\":{\"standoff\":15},\"zerolinecolor\":\"white\",\"automargin\":true,\"zerolinewidth\":2},\"scene\":{\"xaxis\":{\"backgroundcolor\":\"#E5ECF6\",\"gridcolor\":\"white\",\"linecolor\":\"white\",\"showbackground\":true,\"ticks\":\"\",\"zerolinecolor\":\"white\",\"gridwidth\":2},\"yaxis\":{\"backgroundcolor\":\"#E5ECF6\",\"gridcolor\":\"white\",\"linecolor\":\"white\",\"showbackground\":true,\"ticks\":\"\",\"zerolinecolor\":\"white\",\"gridwidth\":2},\"zaxis\":{\"backgroundcolor\":\"#E5ECF6\",\"gridcolor\":\"white\",\"linecolor\":\"white\",\"showbackground\":true,\"ticks\":\"\",\"zerolinecolor\":\"white\",\"gridwidth\":2}},\"shapedefaults\":{\"line\":{\"color\":\"#2a3f5f\"}},\"annotationdefaults\":{\"arrowcolor\":\"#2a3f5f\",\"arrowhead\":0,\"arrowwidth\":1},\"geo\":{\"bgcolor\":\"white\",\"landcolor\":\"#E5ECF6\",\"subunitcolor\":\"white\",\"showland\":true,\"showlakes\":true,\"lakecolor\":\"white\"},\"title\":{\"x\":0.05},\"mapbox\":{\"style\":\"light\"}}},\"scene\":{\"domain\":{\"x\":[0.0,1.0],\"y\":[0.0,1.0]},\"xaxis\":{\"title\":{\"text\":\"Feature1\"}},\"yaxis\":{\"title\":{\"text\":\"Feature2\"}},\"zaxis\":{\"title\":{\"text\":\"Target\"}}},\"legend\":{\"tracegroupgap\":0},\"margin\":{\"t\":60}},                        {\"responsive\": true}                    ).then(function(){\n",
              "                            \n",
              "var gd = document.getElementById('3c1cd94a-098f-4edd-9427-1c32e16429c7');\n",
              "var x = new MutationObserver(function (mutations, observer) {{\n",
              "        var display = window.getComputedStyle(gd).display;\n",
              "        if (!display || display === 'none') {{\n",
              "            console.log([gd, 'removed!']);\n",
              "            Plotly.purge(gd);\n",
              "            observer.disconnect();\n",
              "        }}\n",
              "}});\n",
              "\n",
              "// Listen for the removal of the full notebook cells\n",
              "var notebookContainer = gd.closest('#notebook-container');\n",
              "if (notebookContainer) {{\n",
              "    x.observe(notebookContainer, {childList: true});\n",
              "}}\n",
              "\n",
              "// Listen for the clearing of the current output cell\n",
              "var outputEl = gd.closest('.output');\n",
              "if (outputEl) {{\n",
              "    x.observe(outputEl, {childList: true});\n",
              "}}\n",
              "\n",
              "                        })                };                            </script>        </div>\n",
              "</body>\n",
              "</html>"
            ]
          },
          "metadata": {}
        }
      ]
    },
    {
      "cell_type": "code",
      "source": [
        "lr.coef_"
      ],
      "metadata": {
        "colab": {
          "base_uri": "https://localhost:8080/"
        },
        "id": "v9lz95azEBVL",
        "outputId": "7daca6f9-9cbc-448b-e189-a1306d820d2c"
      },
      "execution_count": 15,
      "outputs": [
        {
          "output_type": "execute_result",
          "data": {
            "text/plain": [
              "array([-0.30562294,  0.0537329 ])"
            ]
          },
          "metadata": {},
          "execution_count": 15
        }
      ]
    },
    {
      "cell_type": "code",
      "source": [
        "lr.intercept_"
      ],
      "metadata": {
        "colab": {
          "base_uri": "https://localhost:8080/"
        },
        "id": "Pdnx-BuXEWnB",
        "outputId": "16f0dc99-d5f4-4831-a38a-8301bf9a842d"
      },
      "execution_count": 16,
      "outputs": [
        {
          "output_type": "execute_result",
          "data": {
            "text/plain": [
              "156.52864731209354"
            ]
          },
          "metadata": {},
          "execution_count": 16
        }
      ]
    }
  ]
}